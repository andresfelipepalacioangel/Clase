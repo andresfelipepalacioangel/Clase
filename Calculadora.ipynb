{
  "nbformat": 4,
  "nbformat_minor": 0,
  "metadata": {
    "colab": {
      "provenance": [],
      "authorship_tag": "ABX9TyOaKCb3QdDO6AfWfJrkdTAX",
      "include_colab_link": true
    },
    "kernelspec": {
      "name": "python3",
      "display_name": "Python 3"
    },
    "language_info": {
      "name": "python"
    }
  },
  "cells": [
    {
      "cell_type": "markdown",
      "metadata": {
        "id": "view-in-github",
        "colab_type": "text"
      },
      "source": [
        "<a href=\"https://colab.research.google.com/github/andresfelipepalacioangel/Clase/blob/main/Calculadora.ipynb\" target=\"_parent\"><img src=\"https://colab.research.google.com/assets/colab-badge.svg\" alt=\"Open In Colab\"/></a>"
      ]
    },
    {
      "cell_type": "code",
      "execution_count": null,
      "metadata": {
        "id": "4Ix0i4Nxth7n"
      },
      "outputs": [],
      "source": [
        "def calculadora():\n",
        "  \"\"\"Realiza operaciones básicas de calculadora.\"\"\"\n",
        "\n",
        "  while True:\n",
        "    print(\"\\nSeleccione una operación:\")\n",
        "    print(\"1. Suma\")\n",
        "    print(\"2. Resta\")\n",
        "    print(\"3. Multiplicación\")\n",
        "    print(\"4. División\")\n",
        "    print(\"5. Salir\")\n",
        "\n",
        "    opcion = input(\"Ingrese el número de la operación: \")\n",
        "\n",
        "    if opcion == '5':\n",
        "      print(\"Saliendo de la calculadora...\")\n",
        "      break\n",
        "\n",
        "    try:\n",
        "      num1 = float(input(\"Ingrese el primer número: \"))\n",
        "      num2 = float(input(\"Ingrese el segundo número: \"))\n",
        "    except ValueError:\n",
        "      print(\"Entrada inválida. Por favor, ingrese números.\")\n",
        "      continue\n",
        "\n",
        "    if opcion == '1':\n",
        "      resultado = num1 + num2\n",
        "      print(f\"El resultado de la suma es: {resultado}\")\n",
        "    elif opcion == '2':\n",
        "      resultado = num1 - num2\n",
        "      print(f\"El resultado de la resta es: {resultado}\")\n",
        "    elif opcion == '3':\n",
        "      resultado = num1 * num2\n",
        "      print(f\"El resultado de la multiplicación es: {resultado}\")\n",
        "    elif opcion == '4':\n",
        "      if num2 == 0:\n",
        "        print(\"Error: No se puede dividir entre cero.\")\n",
        "      else:\n",
        "        resultado = num1 / num2\n",
        "        print(f\"El resultado de la división es: {resultado}\")\n",
        "    else:\n",
        "      print(\"Opción inválida. Por favor, seleccione una operación válida.\")\n",
        "\n",
        "if __name__ == \"__main__\":\n",
        "  calculadora()"
      ]
    }
  ]
}